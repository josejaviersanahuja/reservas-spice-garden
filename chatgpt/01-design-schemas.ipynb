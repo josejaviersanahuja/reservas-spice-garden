{
 "cells": [
  {
   "cell_type": "code",
   "execution_count": null,
   "metadata": {},
   "outputs": [],
   "source": [
    "# %pip install -U python-dotenv\n",
    "# %pip install openai"
   ]
  },
  {
   "cell_type": "code",
   "execution_count": 1,
   "metadata": {},
   "outputs": [],
   "source": [
    "import openai\n",
    "import os\n",
    "\n",
    "from dotenv import load_dotenv, find_dotenv\n",
    "_ = load_dotenv(find_dotenv())\n",
    "\n",
    "openai.api_key  = os.getenv('OPENAI_API_KEY')"
   ]
  },
  {
   "cell_type": "code",
   "execution_count": 2,
   "metadata": {},
   "outputs": [],
   "source": [
    "def get_completion(prompt, model=\"gpt-3.5-turbo\"):\n",
    "    messages = [{\"role\": \"user\", \"content\": prompt}]\n",
    "    response = openai.ChatCompletion.create(\n",
    "        model=model,\n",
    "        messages=messages,\n",
    "        temperature=0, # this is the degree of randomness of the model's output\n",
    "    )\n",
    "    return response.choices[0].message[\"content\"]"
   ]
  },
  {
   "cell_type": "code",
   "execution_count": null,
   "metadata": {},
   "outputs": [],
   "source": [
    "propmt = f\"\"\"\n",
    "  Hola Chatgpt. Quiero que interpretes el rol de un diseñador de bases de datos y junto ami, diseñaremos una base de datos en Postgres para una aplicación de reservas de restaurante. ¿Qué te parece?\"\n",
    "\"\"\"\n",
    "response = get_completion(propmt)\n",
    "print(response)"
   ]
  },
  {
   "cell_type": "code",
   "execution_count": null,
   "metadata": {},
   "outputs": [],
   "source": [
    "prompt= f\"\"\" \n",
    "  Vamos a empezar por crear las tablas de los restaurantes temáticos. La tabla se va a llamar restaurant_themes y va a tener los siguientes campos:\n",
    "  id, name, description, image_url, created_at, updated_at, is_deleted.\n",
    "  Deseo el output en formato SQL para Postgres.\n",
    "  ¿Qué te parece?\n",
    "\"\"\"\n",
    "response = get_completion(prompt)\n",
    "print(response)\n"
   ]
  },
  {
   "cell_type": "code",
   "execution_count": null,
   "metadata": {},
   "outputs": [],
   "source": [
    "prompt= f\"\"\"\n",
    "  Ahora vamos a introducir los datos de los restaurantes temáticos.\n",
    "  1. Restaurante Mexicano, con descripción \"Restaurante de comida mexicana\", imagen \"\"\n",
    "  2. Restaurante Italiano, con descripción \"Restaurante de comida italiana\", imagen \"\"\n",
    "  3. Restaurante Hindú, con descripción \"Restaurante de comida hindú\", imagen \"\"\n",
    "\n",
    "  Esos 3 registros, los quiero como inserts de la tabla restaurant_themes\n",
    "\"\"\"\n",
    "response = get_completion(prompt)\n",
    "print(response)"
   ]
  },
  {
   "cell_type": "code",
   "execution_count": null,
   "metadata": {},
   "outputs": [],
   "source": [
    "prompt= f\"\"\"\n",
    "Por favor, dame el código de creación de la base de datos en Postgres. se va a llamar spice_garden\n",
    "\"\"\"\n",
    "response = get_completion(prompt)\n",
    "print(response)"
   ]
  },
  {
   "cell_type": "code",
   "execution_count": null,
   "metadata": {},
   "outputs": [],
   "source": [
    "prompt = f\"\"\"\n",
    "Vamos a crear la tabla agenda, con las columnas fecha y restaurant_theme_id.\n",
    "Quiero el código en sql para postgres\n",
    "\"\"\"\n",
    "response = get_completion(prompt)\n",
    "print(response)"
   ]
  },
  {
   "cell_type": "code",
   "execution_count": null,
   "metadata": {},
   "outputs": [],
   "source": [
    "prompt = f\"\"\"\n",
    "Ahora quiero que creemos 4 tipos de usuarios.\n",
    "Recepción, con id 1, username reception, password Welcome123\n",
    "Cocina, con id 2, username cocina, password cocina123\n",
    "Maitre, con id 3, username maitre, password maitre123\n",
    "Direccion, con id 4, username direccion, password direccion123\n",
    "\n",
    "Quiero crear la tabla users y crear los 4 inserts.\n",
    "\n",
    "Recuerda que el out es SQL para Postgres y que vamos a usar los metadatos created_at, updated_at, is_deleted\n",
    "\"\"\"\n",
    "response = get_completion(prompt)\n",
    "print(response)"
   ]
  },
  {
   "cell_type": "code",
   "execution_count": 3,
   "metadata": {},
   "outputs": [
    {
     "name": "stdout",
     "output_type": "stream",
     "text": [
      "CREATE TABLE reservations (\n",
      "  date DATE,\n",
      "  res_number VARCHAR(20),\n",
      "  name VARCHAR(100),\n",
      "  room VARCHAR(10),\n",
      "  meal_plan VARCHAR(2),\n",
      "  pax_number INTEGER,\n",
      "  cost NUMERIC(10,2),\n",
      "  observations TEXT,\n",
      "  created_at TIMESTAMP DEFAULT NOW(),\n",
      "  updated_at TIMESTAMP DEFAULT NOW(),\n",
      "  is_deleted BOOLEAN DEFAULT FALSE\n",
      ");\n"
     ]
    }
   ],
   "source": [
    "prompt = f\"\"\"\n",
    "Ahora quiero una tabla de postgres llamada reservations, con los siguientes campos:\n",
    "date, res_number, name, room, meal_plan (it can be SC, BB, HB, FB or AI), pax_number, cost, observations, created_at, updated_at, is_deleted\n",
    "\n",
    "Quiero el output en SQL para Postgres\n",
    "\"\"\"\n",
    "response = get_completion(prompt)\n",
    "print(response)"
   ]
  },
  {
   "cell_type": "code",
   "execution_count": 4,
   "metadata": {},
   "outputs": [
    {
     "name": "stdout",
     "output_type": "stream",
     "text": [
      "CREATE TYPE meal_plan_enum AS ENUM ('SC', 'BB', 'HB', 'FB', 'AI');\n",
      "\n",
      "CREATE TABLE reservations (\n",
      "    id SERIAL PRIMARY KEY,\n",
      "    guest_name VARCHAR(50) NOT NULL,\n",
      "    check_in_date DATE NOT NULL,\n",
      "    check_out_date DATE NOT NULL,\n",
      "    meal_plan meal_plan_enum NOT NULL\n",
      ");\n"
     ]
    }
   ],
   "source": [
    "prompt = f\"\"\"\n",
    "Vamos a crear un ENUM con los valores SC, BB, HB, FB y AI.\n",
    "Y ese ENUM lo vamos a usar en la columna meal_plan de la tabla reservations.\n",
    "\n",
    "recrea esa tabla en postgres usando el ENUM\n",
    "\"\"\"\n",
    "\n",
    "response = get_completion(prompt)\n",
    "print(response)"
   ]
  }
 ],
 "metadata": {
  "kernelspec": {
   "display_name": "Python 3",
   "language": "python",
   "name": "python3"
  },
  "language_info": {
   "codemirror_mode": {
    "name": "ipython",
    "version": 3
   },
   "file_extension": ".py",
   "mimetype": "text/x-python",
   "name": "python",
   "nbconvert_exporter": "python",
   "pygments_lexer": "ipython3",
   "version": "3.11.3"
  },
  "orig_nbformat": 4
 },
 "nbformat": 4,
 "nbformat_minor": 2
}
