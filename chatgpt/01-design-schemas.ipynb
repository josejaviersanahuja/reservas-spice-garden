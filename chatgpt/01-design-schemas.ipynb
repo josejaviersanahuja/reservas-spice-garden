{
 "cells": [
  {
   "cell_type": "code",
   "execution_count": null,
   "metadata": {},
   "outputs": [],
   "source": [
    "# %pip install -U python-dotenv\n",
    "# %pip install openai"
   ]
  },
  {
   "cell_type": "code",
   "execution_count": 2,
   "metadata": {},
   "outputs": [],
   "source": [
    "import openai\n",
    "import os\n",
    "\n",
    "from dotenv import load_dotenv, find_dotenv\n",
    "_ = load_dotenv(find_dotenv())\n",
    "\n",
    "openai.api_key  = os.getenv('OPENAI_API_KEY')"
   ]
  },
  {
   "cell_type": "code",
   "execution_count": 3,
   "metadata": {},
   "outputs": [],
   "source": [
    "def get_completion(prompt, model=\"gpt-3.5-turbo\"):\n",
    "    messages = [{\"role\": \"user\", \"content\": prompt}]\n",
    "    response = openai.ChatCompletion.create(\n",
    "        model=model,\n",
    "        messages=messages,\n",
    "        temperature=0, # this is the degree of randomness of the model's output\n",
    "    )\n",
    "    return response.choices[0].message[\"content\"]"
   ]
  },
  {
   "cell_type": "code",
   "execution_count": 24,
   "metadata": {},
   "outputs": [
    {
     "name": "stdout",
     "output_type": "stream",
     "text": [
      "¡Hola! Como asistente virtual, estoy encantado de ayudarte en el diseño de la base de datos para tu aplicación de reservas de restaurante. Como diseñador de bases de datos, mi trabajo es asegurarme de que la base de datos sea eficiente, escalable y fácil de mantener. \n",
      "\n",
      "Para comenzar, necesitamos definir los requisitos de la aplicación y los datos que se deben almacenar. ¿Qué información necesitas almacenar en la base de datos? ¿Qué tipos de datos son? ¿Cuántos usuarios esperas que utilicen la aplicación? ¿Cuántos restaurantes se registrarán en la aplicación? \n",
      "\n",
      "Una vez que tengamos una idea clara de los requisitos, podemos comenzar a diseñar la estructura de la base de datos. Podemos utilizar el modelo entidad-relación (ER) para representar las entidades y relaciones en la base de datos. \n",
      "\n",
      "Por ejemplo, podemos tener las siguientes entidades: \n",
      "\n",
      "- Usuario: información del usuario, como nombre, correo electrónico, contraseña, etc. \n",
      "- Restaurante: información del restaurante, como nombre, dirección, teléfono, etc. \n",
      "- Reserva: información de la reserva, como fecha, hora, número de personas, etc. \n",
      "\n",
      "Luego, podemos definir las relaciones entre estas entidades. Por ejemplo, un usuario puede hacer varias reservas en diferentes restaurantes, pero una reserva solo puede pertenecer a un usuario y un restaurante. \n",
      "\n",
      "Una vez que tengamos el modelo ER, podemos crear las tablas en la base de datos y definir las relaciones entre ellas. Podemos utilizar Postgres para crear la base de datos y las tablas, y luego escribir consultas SQL para insertar, actualizar y recuperar datos de la base de datos. \n",
      "\n",
      "En resumen, como diseñador de bases de datos, mi trabajo es ayudarte a diseñar una base de datos eficiente y escalable para tu aplicación de reservas de restaurante. Juntos, podemos definir los requisitos, diseñar la estructura de la base de datos y crear las tablas en Postgres. ¡Empecemos!\n"
     ]
    }
   ],
   "source": [
    "propmt = f\"\"\"\n",
    "  Hola Chatgpt. Quiero que interpretes el rol de un diseñador de bases de datos y junto ami, diseñaremos una base de datos en Postgres para una aplicación de reservas de restaurante. ¿Qué te parece?\"\n",
    "\"\"\"\n",
    "response = get_completion(propmt)\n",
    "print(response)"
   ]
  },
  {
   "cell_type": "code",
   "execution_count": 25,
   "metadata": {},
   "outputs": [
    {
     "name": "stdout",
     "output_type": "stream",
     "text": [
      "Me parece bien. Aquí está el código SQL para crear la tabla restaurant_themes en Postgres:\n",
      "\n",
      "CREATE TABLE restaurant_themes (\n",
      "  id SERIAL PRIMARY KEY,\n",
      "  name VARCHAR(255) NOT NULL,\n",
      "  description TEXT,\n",
      "  image_url VARCHAR(255),\n",
      "  created_at TIMESTAMP DEFAULT NOW(),\n",
      "  updated_at TIMESTAMP DEFAULT NOW(),\n",
      "  is_deleted BOOLEAN DEFAULT FALSE\n",
      ");\n"
     ]
    }
   ],
   "source": [
    "prompt= f\"\"\" \n",
    "  Vamos a empezar por crear las tablas de los restaurantes temáticos. La tabla se va a llamar restaurant_themes y va a tener los siguientes campos:\n",
    "  id, name, description, image_url, created_at, updated_at, is_deleted.\n",
    "  Deseo el output en formato SQL para Postgres.\n",
    "  ¿Qué te parece?\n",
    "\"\"\"\n",
    "response = get_completion(prompt)\n",
    "print(response)\n"
   ]
  },
  {
   "cell_type": "code",
   "execution_count": 26,
   "metadata": {},
   "outputs": [
    {
     "name": "stdout",
     "output_type": "stream",
     "text": [
      "INSERT INTO restaurant_themes (theme_name, description, image) VALUES ('Restaurante Mexicano', 'Restaurante de comida mexicana', '');\n",
      "INSERT INTO restaurant_themes (theme_name, description, image) VALUES ('Restaurante Italiano', 'Restaurante de comida italiana', '');\n",
      "INSERT INTO restaurant_themes (theme_name, description, image) VALUES ('Restaurante Hindú', 'Restaurante de comida hindú', '');\n"
     ]
    }
   ],
   "source": [
    "prompt= f\"\"\"\n",
    "  Ahora vamos a introducir los datos de los restaurantes temáticos.\n",
    "  1. Restaurante Mexicano, con descripción \"Restaurante de comida mexicana\", imagen \"\"\n",
    "  2. Restaurante Italiano, con descripción \"Restaurante de comida italiana\", imagen \"\"\n",
    "  3. Restaurante Hindú, con descripción \"Restaurante de comida hindú\", imagen \"\"\n",
    "\n",
    "  Esos 3 registros, los quiero como inserts de la tabla restaurant_themes\n",
    "\"\"\"\n",
    "response = get_completion(prompt)\n",
    "print(response)"
   ]
  },
  {
   "cell_type": "code",
   "execution_count": 27,
   "metadata": {},
   "outputs": [
    {
     "name": "stdout",
     "output_type": "stream",
     "text": [
      "CREATE DATABASE spice_garden;\n"
     ]
    }
   ],
   "source": [
    "prompt= f\"\"\"\n",
    "Por favor, dame el código de creación de la base de datos en Postgres. se va a llamar spice_garden\n",
    "\"\"\"\n",
    "response = get_completion(prompt)\n",
    "print(response)"
   ]
  },
  {
   "cell_type": "code",
   "execution_count": 5,
   "metadata": {},
   "outputs": [
    {
     "name": "stdout",
     "output_type": "stream",
     "text": [
      "CREATE TABLE agenda (\n",
      "  fecha DATE NOT NULL,\n",
      "  restaurant_theme_id INTEGER NOT NULL,\n",
      "  PRIMARY KEY (fecha, restaurant_theme_id)\n",
      ");\n"
     ]
    }
   ],
   "source": [
    "prompt = f\"\"\"\n",
    "Vamos a crear la tabla agenda, con las columnas fecha y restaurant_theme_id.\n",
    "Quiero el código en sql para postgres\n",
    "\"\"\"\n",
    "response = get_completion(prompt)\n",
    "print(response)"
   ]
  }
 ],
 "metadata": {
  "kernelspec": {
   "display_name": "Python 3",
   "language": "python",
   "name": "python3"
  },
  "language_info": {
   "codemirror_mode": {
    "name": "ipython",
    "version": 3
   },
   "file_extension": ".py",
   "mimetype": "text/x-python",
   "name": "python",
   "nbconvert_exporter": "python",
   "pygments_lexer": "ipython3",
   "version": "3.11.3"
  },
  "orig_nbformat": 4
 },
 "nbformat": 4,
 "nbformat_minor": 2
}
