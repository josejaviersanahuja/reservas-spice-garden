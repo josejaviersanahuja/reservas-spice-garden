{
 "cells": [
  {
   "cell_type": "code",
   "execution_count": null,
   "metadata": {},
   "outputs": [],
   "source": [
    "# %pip install qrcode\n",
    "\n",
    "import qrcode\n",
    "\n",
    "def generar_qr(url):\n",
    "  qr = qrcode.QRCode(version=1, box_size=100, border=5)\n",
    "  qr.add_data(url)\n",
    "  qr.make(fit=True)\n",
    "  imgen_qr = qr.make_image(fill_color=\"black\", back_color=\"white\")\n",
    "  imgen_qr.save(\"qr2.png\")\n",
    "\n",
    "url_ej=\"https://frolicking-entremet-8bcfa6.netlify.app\"\n",
    "generar_qr(url_ej)"
   ]
  }
 ],
 "metadata": {
  "language_info": {
   "name": "python"
  },
  "orig_nbformat": 4
 },
 "nbformat": 4,
 "nbformat_minor": 2
}
