{
 "cells": [
  {
   "cell_type": "code",
   "execution_count": 1,
   "metadata": {},
   "outputs": [],
   "source": [
    "import openai\n",
    "import os\n",
    "\n",
    "from dotenv import load_dotenv, find_dotenv\n",
    "_ = load_dotenv(find_dotenv())\n",
    "\n",
    "openai.api_key  = os.getenv('OPENAI_API_KEY')"
   ]
  },
  {
   "cell_type": "code",
   "execution_count": 2,
   "metadata": {},
   "outputs": [],
   "source": [
    "def get_completion(prompt, model=\"gpt-3.5-turbo\"):\n",
    "    messages = [{\"role\": \"user\", \"content\": prompt}]\n",
    "    response = openai.ChatCompletion.create(\n",
    "        model=model,\n",
    "        messages=messages,\n",
    "        temperature=0, # this is the degree of randomness of the model's output\n",
    "    )\n",
    "    return response.choices[0].message[\"content\"]"
   ]
  },
  {
   "cell_type": "code",
   "execution_count": 3,
   "metadata": {},
   "outputs": [
    {
     "name": "stdout",
     "output_type": "stream",
     "text": [
      "ALTER TABLE agenda ADD CONSTRAINT fk_agenda_restaurant_theme_id FOREIGN KEY (restaurant_theme_id) REFERENCES restaurant_themes(id); \n",
      "\n",
      "Este constraint asegura que el valor de restaurant_theme_id en la tabla agenda siempre exista en la columna id de la tabla restaurant_themes. Si se intenta insertar un valor que no existe en la tabla restaurant_themes, se lanzará un error y la inserción no se llevará a cabo.\n"
     ]
    }
   ],
   "source": [
    "prompt = f\"\"\"\n",
    " Ahora quiero que me ayudes a construir varios constraints para varias tablas de la base de datos.\n",
    "\n",
    " CREATE TABLE agenda (\n",
    "  date DATE NOT NULL DEFAULT CURRENT_DATE PRIMARY KEY,\n",
    "  restaurant_theme_id INTEGER NOT NULL,\n",
    "  t1900 INTEGER NOT NULL DEFAULT 10,\n",
    "  t1915 INTEGER NOT NULL DEFAULT 8,\n",
    "  t1930 INTEGER NOT NULL DEFAULT 6,\n",
    "  t1945 INTEGER NOT NULL DEFAULT 0,\n",
    "  t2000 INTEGER NOT NULL DEFAULT 4,\n",
    "  t2015 INTEGER NOT NULL DEFAULT 6,\n",
    "  t2030 INTEGER NOT NULL DEFAULT 4,\n",
    "  t2045 INTEGER NOT NULL DEFAULT 6,\n",
    "  t2100 INTEGER NOT NULL DEFAULT 6,\n",
    "  t2115 INTEGER NOT NULL DEFAULT 6,\n",
    "  t2130 INTEGER NOT NULL DEFAULT 4,\n",
    "  t2145 INTEGER NOT NULL DEFAULT 4\n",
    ");\n",
    "\n",
    "CREATE TABLE restaurant_themes (\n",
    "  id SERIAL PRIMARY KEY,\n",
    "  name VARCHAR(255) NOT NULL,\n",
    "  description TEXT,\n",
    "  image_url VARCHAR(255),\n",
    "  created_at TIMESTAMP DEFAULT NOW(),\n",
    "  updated_at TIMESTAMP DEFAULT NOW(),\n",
    "  is_deleted BOOLEAN DEFAULT FALSE\n",
    ");\n",
    "\n",
    "La tabla agenda tiene la columna restaurant_theme_id que es una llave foránea a la tabla restaurant_themes. Quiero que me ayudes a construir un constraint que no permita que se inserte un registro en la tabla agenda si el restaurant_theme_id no existe en la tabla restaurant_themes.\n",
    "\n",
    "El output en SQL de postgres\n",
    "\"\"\"\n",
    "\n",
    "print(get_completion(prompt))\n"
   ]
  },
  {
   "cell_type": "code",
   "execution_count": 4,
   "metadata": {},
   "outputs": [
    {
     "name": "stdout",
     "output_type": "stream",
     "text": [
      "ALTER TABLE reservations\n",
      "ADD CONSTRAINT fk_reservations_agenda\n",
      "FOREIGN KEY (date)\n",
      "REFERENCES agenda(date);\n"
     ]
    }
   ],
   "source": [
    "prompt = f\"\"\"\n",
    " Ahora quiero un constraint que relaciones las siguientes tablas.\n",
    "\n",
    " CREATE TABLE agenda (\n",
    "  date DATE NOT NULL DEFAULT CURRENT_DATE PRIMARY KEY,\n",
    "  restaurant_theme_id INTEGER NOT NULL,\n",
    "  t1900 INTEGER NOT NULL DEFAULT 10,\n",
    "  t1915 INTEGER NOT NULL DEFAULT 8,\n",
    "  t1930 INTEGER NOT NULL DEFAULT 6,\n",
    "  t1945 INTEGER NOT NULL DEFAULT 0,\n",
    "  t2000 INTEGER NOT NULL DEFAULT 4,\n",
    "  t2015 INTEGER NOT NULL DEFAULT 6,\n",
    "  t2030 INTEGER NOT NULL DEFAULT 4,\n",
    "  t2045 INTEGER NOT NULL DEFAULT 6,\n",
    "  t2100 INTEGER NOT NULL DEFAULT 6,\n",
    "  t2115 INTEGER NOT NULL DEFAULT 6,\n",
    "  t2130 INTEGER NOT NULL DEFAULT 4,\n",
    "  t2145 INTEGER NOT NULL DEFAULT 4\n",
    ");\n",
    "\n",
    "CREATE TABLE reservations (\n",
    "  date DATE NOT NULL DEFAULT CURRENT_DATE,\n",
    "  time TIME_OPTIONS_ENUM NOT NULL,\n",
    "  res_number VARCHAR(20),\n",
    "  name VARCHAR(100),\n",
    "  room ROOM_OPTIONS_ENUM,\n",
    "  meal_plan MEAL_PLAN_ENUM,\n",
    "  pax_number INTEGER,\n",
    "  cost NUMERIC(10,2),\n",
    "  observations TEXT,\n",
    "  created_at TIMESTAMP DEFAULT NOW(),\n",
    "  updated_at TIMESTAMP DEFAULT NOW(),\n",
    "  is_deleted BOOLEAN DEFAULT FALSE,\n",
    "  PRIMARY KEY (date, time, res_number, name, room)\n",
    ");\n",
    "\n",
    "La columna date de la tabla reservations, quiero que sea una llave foránea a la columna date de la tabla agenda.\n",
    "\n",
    "El output en SQL para postgres\n",
    "\"\"\"\n",
    "\n",
    "print(get_completion(prompt))"
   ]
  }
 ],
 "metadata": {
  "kernelspec": {
   "display_name": "Python 3",
   "language": "python",
   "name": "python3"
  },
  "language_info": {
   "codemirror_mode": {
    "name": "ipython",
    "version": 3
   },
   "file_extension": ".py",
   "mimetype": "text/x-python",
   "name": "python",
   "nbconvert_exporter": "python",
   "pygments_lexer": "ipython3",
   "version": "3.11.3"
  },
  "orig_nbformat": 4
 },
 "nbformat": 4,
 "nbformat_minor": 2
}
